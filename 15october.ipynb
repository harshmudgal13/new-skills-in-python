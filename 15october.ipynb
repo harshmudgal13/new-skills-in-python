{
 "cells": [
  {
   "cell_type": "code",
   "execution_count": 2,
   "id": "4fe844d9",
   "metadata": {},
   "outputs": [
    {
     "name": "stdout",
     "output_type": "stream",
     "text": [
      "2\n",
      "1\n",
      "25\n"
     ]
    }
   ],
   "source": [
    "#Arithmetic operators\n",
    "print(5//2)\n",
    "print(5%2)\n",
    "print(5**2)"
   ]
  },
  {
   "cell_type": "code",
   "execution_count": 4,
   "id": "7df41f96",
   "metadata": {},
   "outputs": [
    {
     "name": "stdout",
     "output_type": "stream",
     "text": [
      "True\n",
      "False\n",
      "True\n",
      "False\n",
      "False\n",
      "True\n"
     ]
    }
   ],
   "source": [
    "#relational operators\n",
    "print(5>2)\n",
    "print(5<2)\n",
    "print(5>=2)\n",
    "print(5<=2)\n",
    "print(5==2)\n",
    "print(5!=2)"
   ]
  },
  {
   "cell_type": "code",
   "execution_count": 6,
   "id": "2d47ac66",
   "metadata": {},
   "outputs": [
    {
     "name": "stdout",
     "output_type": "stream",
     "text": [
      "0\n",
      "1\n",
      "False\n"
     ]
    }
   ],
   "source": [
    "#logical operators\n",
    "print(1 and 0)\n",
    "print(1 or 0)\n",
    "print(not 1)"
   ]
  },
  {
   "cell_type": "code",
   "execution_count": 10,
   "id": "86ca5d88",
   "metadata": {},
   "outputs": [
    {
     "name": "stdout",
     "output_type": "stream",
     "text": [
      "1\n",
      "7\n",
      "6\n",
      "-6\n",
      "10\n",
      "2\n"
     ]
    }
   ],
   "source": [
    "#bitwise operators\n",
    "print(5 & 3)\n",
    "print(5 | 3)\n",
    "print(5 ^ 3)\n",
    "print(~5)\n",
    "print(5 << 1)\n",
    "print(5 >> 1)"
   ]
  },
  {
   "cell_type": "code",
   "execution_count": 21,
   "id": "0c68751b",
   "metadata": {},
   "outputs": [],
   "source": [
    "#assignment operators\n",
    "x = 5\n",
    "x += 3"
   ]
  },
  {
   "cell_type": "code",
   "execution_count": 25,
   "id": "f0eedd5f",
   "metadata": {},
   "outputs": [
    {
     "name": "stdout",
     "output_type": "stream",
     "text": [
      "False\n",
      "False\n"
     ]
    }
   ],
   "source": [
    "#membership operators\n",
    "#in, not in\n",
    "print('D' not in 'Deepak')\n",
    "\n",
    "print(1 in [2,3,4,5,6])"
   ]
  },
  {
   "cell_type": "code",
   "execution_count": 31,
   "id": "1cb21853",
   "metadata": {},
   "outputs": [
    {
     "name": "stdout",
     "output_type": "stream",
     "text": [
      "The sum of the digits is: 6\n"
     ]
    }
   ],
   "source": [
    "#Program to find the sum of a 3 digit number entered by the user\n",
    "number = int(input(\"Enter a 3 digit number: \"))\n",
    "a = number%10\n",
    "b = (number//10)%10\n",
    "c = (number//100)%10\n",
    "sum = a+b+c\n",
    "print(\"The sum of the digits is:\",sum)"
   ]
  },
  {
   "cell_type": "code",
   "execution_count": 36,
   "id": "8c50e383",
   "metadata": {},
   "outputs": [
    {
     "name": "stdout",
     "output_type": "stream",
     "text": [
      "Invalid email or password\n"
     ]
    }
   ],
   "source": [
    "#if-else statement\n",
    "#login program and idndentation\n",
    "# email -> harshmudgal13@zoho.in\n",
    "# password -> 12345\n",
    "email = input(\"Enter your email: \")\n",
    "password = input(\"Enter your password: \")\n",
    "if email == \"harshmudgal13@zoho.in\" and password == \"12345\":\n",
    "   print(\"welcome back, login successful\")\n",
    "elif email == \"harshmudgal13@zoho.in\" and password != \"12345\":\n",
    "    #tell the user that the password is incorrect\n",
    "    print(\"Incorrect password, please try again\")\n",
    "    password = input (\"Enter password again: \")\n",
    "    if password == \"12345\":\n",
    "        print(\"Login successful\")\n",
    "    else:\n",
    "        print(\"Incorrect password, account locked\")\n",
    "else:\n",
    "    print(\"Invalid email or password\")"
   ]
  },
  {
   "cell_type": "code",
   "execution_count": 42,
   "id": "6edb720e",
   "metadata": {},
   "outputs": [
    {
     "name": "stdout",
     "output_type": "stream",
     "text": [
      "All are equal\n"
     ]
    }
   ],
   "source": [
    "#min of three numbers\n",
    "a = int(input(\"Enter first number: \"))\n",
    "b = int(input(\"Enter second number: \"))\n",
    "c = int(input(\"Enter third number: \"))\n",
    "if int(input(a==b==c)):\n",
    "        print(\"All are equal\")\n",
    "elif a<=b and a<=c:\n",
    "    print(a,\"is the smallest number\")\n",
    "elif b<=a and b<=c:\n",
    "    print(b,\"is the smallest number\")\n",
    "else:\n",
    "    print(c,\"is the smallest number\")"
   ]
  },
  {
   "cell_type": "code",
   "execution_count": 43,
   "id": "c314721e",
   "metadata": {},
   "outputs": [
    {
     "name": "stdout",
     "output_type": "stream",
     "text": [
      "1.4782608695652173\n"
     ]
    }
   ],
   "source": [
    "# menu driven program\n",
    "fnum = int(input(\"Enter first number: \"))\n",
    "snum = int(input(\"Enter second number: \"))\n",
    "\n",
    "op = input(\"Enter an operator (+, -, *, /): \")\n",
    "\n",
    "if op == '+':\n",
    "    print(fnum + snum)\n",
    "elif op == '-':\n",
    "    print(fnum - snum)\n",
    "elif op == '*':\n",
    "    print(fnum * snum)\n",
    "elif op == '/':\n",
    "    print(fnum / snum)\n",
    "else:\n",
    "    print(\"Invalid operator\")"
   ]
  },
  {
   "cell_type": "code",
   "execution_count": null,
   "id": "17723fe7",
   "metadata": {},
   "outputs": [
    {
     "name": "stdout",
     "output_type": "stream",
     "text": [
      "You have chosen to change your pin\n",
      "Your pin has been changed successfully\n"
     ]
    }
   ],
   "source": [
    "# menu driven program\n",
    "menu = input(\"\"\"\n",
    "Hi! how can i help you?\n",
    "1. Enter 1 for pin change\n",
    "2. Enter 2 for balance enquiry\n",
    "3. Enter 3 for cash withdrawal\n",
    "4. Enter 4 for deposit cash\n",
    "5. Enter 5 to exit\n",
    "             \"\"\")\n",
    "\n",
    "if menu == '1':\n",
    "    print(\"You have chosen to change your pin\")\n",
    "    old_pin = input(\"Enter your old pin: \")\n",
    "    if old_pin == \"1234\":\n",
    "        new_pin = input(\"Enter your new pin: \")\n",
    "        confirm_pin = input(\"Confirm your new pin: \")\n",
    "        if new_pin == confirm_pin:\n",
    "            print(\"Your pin has been changed successfully\")\n",
    "        else:\n",
    "            print(\"Pin mismatch, try again\")\n",
    "    else:\n",
    "        print(\"Incorrect old pin\")\n",
    "elif menu == '2':\n",
    "    print(\"Your balance is $1000\")\n",
    "elif menu == '3':\n",
    "    amount = int(input(\"Enter the amount to withdraw: \"))\n",
    "    if amount <= 1000:\n",
    "        print(\"Please take your cash\")\n",
    "    else:\n",
    "        print(\"Insufficient balance\")\n",
    "elif menu == '4':\n",
    "    amount = int(input(\"Enter the amount to deposit: \"))\n",
    "    print(\"You have deposited $\", amount)\n",
    "elif menu == '5':\n",
    "    c\n",
    "else:\n",
    "    print(\"Invalid choice, please try again\")\n",
    "#operators --- IGNORE ---"
   ]
  },
  {
   "cell_type": "markdown",
   "id": "8cd3d228",
   "metadata": {},
   "source": [
    "#modules in python"
   ]
  },
  {
   "cell_type": "code",
   "execution_count": 52,
   "id": "b1e69633",
   "metadata": {},
   "outputs": [
    {
     "data": {
      "text/plain": [
       "2.0"
      ]
     },
     "execution_count": 52,
     "metadata": {},
     "output_type": "execute_result"
    }
   ],
   "source": [
    "# math module\n",
    "import math\n",
    "\n",
    "math.sqrt(4)"
   ]
  },
  {
   "cell_type": "code",
   "execution_count": 53,
   "id": "d6d04778",
   "metadata": {},
   "outputs": [
    {
     "name": "stdout",
     "output_type": "stream",
     "text": [
      "['False', 'None', 'True', 'and', 'as', 'assert', 'async', 'await', 'break', 'class', 'continue', 'def', 'del', 'elif', 'else', 'except', 'finally', 'for', 'from', 'global', 'if', 'import', 'in', 'is', 'lambda', 'nonlocal', 'not', 'or', 'pass', 'raise', 'return', 'try', 'while', 'with', 'yield']\n"
     ]
    }
   ],
   "source": [
    "# keyword module\n",
    "import keyword\n",
    "print(keyword.kwlist)"
   ]
  },
  {
   "cell_type": "code",
   "execution_count": 67,
   "id": "b776a76d",
   "metadata": {},
   "outputs": [
    {
     "name": "stdout",
     "output_type": "stream",
     "text": [
      "63\n"
     ]
    }
   ],
   "source": [
    "# random module\n",
    "import random\n",
    "print(random.randint(1,100))"
   ]
  },
  {
   "cell_type": "code",
   "execution_count": 68,
   "id": "495124d6",
   "metadata": {},
   "outputs": [
    {
     "name": "stdout",
     "output_type": "stream",
     "text": [
      "2025-10-15 10:08:18.272806\n"
     ]
    }
   ],
   "source": [
    "# datetime module\n",
    "import datetime\n",
    "print(datetime.datetime.now())"
   ]
  },
  {
   "cell_type": "code",
   "execution_count": 69,
   "id": "dc2947c9",
   "metadata": {},
   "outputs": [
    {
     "name": "stdout",
     "output_type": "stream",
     "text": [
      "\n",
      "Please wait a moment while I gather a list of all available modules...\n",
      "\n",
      "test_sqlite3: testing with SQLite version 3.50.4\n",
      "IPython             _suggestions        fractions           quopri\n",
      "__future__          _symtable           ftplib              random\n",
      "__hello__           _sysconfig          functools           re\n",
      "__phello__          _sysconfigdata__darwin_darwin gc                  readline\n",
      "_abc                _testbuffer         genericpath         reprlib\n",
      "_aix_support        _testcapi           getopt              resource\n",
      "_android_support    _testclinic         getpass             rlcompleter\n",
      "_apple_support      _testclinic_limited gettext             runpy\n",
      "_ast                _testimportmultiple glob                sched\n",
      "_ast_unparse        _testinternalcapi   graphlib            secrets\n",
      "_asyncio            _testlimitedcapi    grp                 select\n",
      "_bisect             _testmultiphase     gzip                selectors\n",
      "_blake2             _testsinglephase    hashlib             shelve\n",
      "_bz2                _thread             heapq               shlex\n",
      "_codecs             _threading_local    hmac                shutil\n",
      "_codecs_cn          _tkinter            html                signal\n",
      "_codecs_hk          _tokenize           http                site\n",
      "_codecs_iso2022     _tracemalloc        idlelib             sitecustomize\n",
      "_codecs_jp          _types              imaplib             six\n",
      "_codecs_kr          _typing             importlib           smtplib\n",
      "_codecs_tw          _uuid               inspect             socket\n",
      "_collections        _warnings           io                  socketserver\n",
      "_collections_abc    _weakref            ipaddress           sqlite3\n",
      "_colorize           _weakrefset         ipykernel           sre_compile\n",
      "_compat_pickle      _xxtestfuzz         ipykernel_launcher  sre_constants\n",
      "_contextvars        _zoneinfo           ipython_pygments_lexers sre_parse\n",
      "_csv                _zstd               itertools           ssl\n",
      "_ctypes             abc                 jedi                stack_data\n",
      "_ctypes_test        annotationlib       json                stat\n",
      "_curses             antigravity         jupyter             statistics\n",
      "_curses_panel       appnope             jupyter_client      string\n",
      "_datetime           argparse            jupyter_core        stringprep\n",
      "_dbm                array               keyword             struct\n",
      "_decimal            ast                 linecache           subprocess\n",
      "_elementtree        asttokens           locale              symtable\n",
      "_functools          asyncio             logging             sys\n",
      "_hashlib            atexit              lzma                sysconfig\n",
      "_heapq              base64              mailbox             syslog\n",
      "_hmac               bdb                 marshal             tabnanny\n",
      "_imp                binascii            math                tarfile\n",
      "_interpchannels     bisect              matplotlib_inline   tempfile\n",
      "_interpqueues       builtins            mimetypes           termios\n",
      "_interpreters       bz2                 mmap                test\n",
      "_io                 cProfile            modulefinder        textwrap\n",
      "_ios_support        calendar            multiprocessing     this\n",
      "_json               cmath               nest_asyncio        threading\n",
      "_locale             cmd                 netrc               time\n",
      "_lsprof             code                ntpath              timeit\n",
      "_lzma               codecs              nturl2path          tkinter\n",
      "_markupbase         codeop              numbers             token\n",
      "_md5                collections         opcode              tokenize\n",
      "_multibytecodec     colorsys            operator            tomllib\n",
      "_multiprocessing    comm                optparse            tornado\n",
      "_opcode             compileall          os                  trace\n",
      "_opcode_metadata    compression         packaging           traceback\n",
      "_operator           concurrent          parso               tracemalloc\n",
      "_osx_support        configparser        pathlib             traitlets\n",
      "_pickle             contextlib          pdb                 tty\n",
      "_posixshmem         contextvars         pexpect             turtle\n",
      "_posixsubprocess    copy                pickle              turtledemo\n",
      "_py_abc             copyreg             pickletools         types\n",
      "_py_warnings        csv                 pip                 typing\n",
      "_pydatetime         ctypes              pkgutil             unicodedata\n",
      "_pydecimal          curses              platform            unittest\n",
      "_pyio               dataclasses         platformdirs        urllib\n",
      "_pylong             datetime            plistlib            uuid\n",
      "_pyrepl             dateutil            poplib              venv\n",
      "_queue              dbm                 posix               warnings\n",
      "_random             debugpy             posixpath           wave\n",
      "_remote_debugging   decimal             pprint              wcwidth\n",
      "_scproxy            decorator           profile             weakref\n",
      "_sha1               difflib             prompt_toolkit      webbrowser\n",
      "_sha2               dis                 pstats              wheel\n",
      "_sha3               doctest             psutil              wsgiref\n",
      "_signal             email               pty                 xml\n",
      "_sitebuiltins       encodings           ptyprocess          xmlrpc\n",
      "_socket             ensurepip           pure_eval           xxlimited\n",
      "_sqlite3            enum                pwd                 xxlimited_35\n",
      "_sre                errno               py_compile          xxsubtype\n",
      "_ssl                executing           pyclbr              zipapp\n",
      "_stat               faulthandler        pydoc               zipfile\n",
      "_statistics         fcntl               pydoc_data          zipimport\n",
      "_string             filecmp             pyexpat             zlib\n",
      "_strptime           fileinput           pygments            zmq\n",
      "_struct             fnmatch             queue               zoneinfo\n",
      "\n",
      "Enter any module name to get more help.  Or, type \"modules spam\" to search\n",
      "for modules whose name or summary contain the string \"spam\".\n",
      "\n"
     ]
    }
   ],
   "source": [
    "help('modules')"
   ]
  },
  {
   "cell_type": "code",
   "execution_count": null,
   "id": "9476f344",
   "metadata": {},
   "outputs": [],
   "source": [
    "#loops in python\n",
    "#while loop --> to print a table"
   ]
  },
  {
   "cell_type": "code",
   "execution_count": null,
   "id": "56802467",
   "metadata": {},
   "outputs": [
    {
     "name": "stdout",
     "output_type": "stream",
     "text": [
      "5 x 1 = 5\n",
      "5 x 2 = 10\n",
      "5 x 3 = 15\n",
      "5 x 4 = 20\n",
      "5 x 5 = 25\n",
      "5 x 6 = 30\n",
      "5 x 7 = 35\n",
      "5 x 8 = 40\n",
      "5 x 9 = 45\n",
      "5 x 10 = 50\n"
     ]
    }
   ],
   "source": [
    "number = int(input(\"enter the number: \"))\n",
    "i = 1\n",
    "while i<=10:\n",
    "    print(number,'x',i,'=',number*i)\n",
    "    i += 1"
   ]
  },
  {
   "cell_type": "code",
   "execution_count": 12,
   "id": "ac87b908",
   "metadata": {},
   "outputs": [
    {
     "name": "stdout",
     "output_type": "stream",
     "text": [
      "Too high! Try again.\n",
      "Too low! Try again.\n",
      "Too low! Try again.\n",
      "Too high! Try again.\n",
      "Too high! Try again.\n",
      "Too high! Try again.\n",
      "Too high! Try again.\n",
      "You guessed the number in 8 attempts.\n",
      "Congratulations! You guessed the correct number.\n"
     ]
    }
   ],
   "source": [
    "#guess the number game\n",
    "import random\n",
    "number = random.randint(1,100)\n",
    "guess = int(input(\"Guess a number between 1 and 100: \"))\n",
    "\n",
    "counter = 1\n",
    "\n",
    "while guess != number:\n",
    "\n",
    "    if guess == number:\n",
    "        print(\"Congratulations! You guessed the correct number.\")\n",
    "    elif guess < number:\n",
    "        print(\"Too low! Try again.\")\n",
    "    else:\n",
    "        print(\"Too high! Try again.\")\n",
    "    \n",
    "    guess = int(input(\"Guess a number between 1 and 100: \"))\n",
    "    counter += 1\n",
    "\n",
    "print(f\"You guessed the number in {counter} attempts.\")\n",
    "print(\"Congratulations! You guessed the correct number.\")"
   ]
  },
  {
   "cell_type": "code",
   "execution_count": 22,
   "id": "1b0817e4",
   "metadata": {},
   "outputs": [
    {
     "name": "stdout",
     "output_type": "stream",
     "text": [
      "D\n",
      "e\n",
      "l\n",
      "h\n",
      "i\n"
     ]
    }
   ],
   "source": [
    "# For loop demo\n",
    "\n",
    "for i in ('Delhi'):\n",
    "    print(i)"
   ]
  },
  {
   "cell_type": "code",
   "execution_count": 23,
   "id": "50f78d37",
   "metadata": {},
   "outputs": [
    {
     "name": "stdout",
     "output_type": "stream",
     "text": [
      "10 10000\n",
      "9 9000.0\n",
      "8 8100.0\n",
      "7 7290.0\n",
      "6 6561.0\n",
      "5 5904.9\n",
      "4 5314.41\n",
      "3 4782.969\n",
      "2 4304.6721\n",
      "1 3874.20489\n"
     ]
    }
   ],
   "source": [
    "#populating a list using for loop\n",
    "curr_pop = 10000\n",
    "\n",
    "for i in range(10,0,-1):\n",
    "    print(i,curr_pop)\n",
    "    curr_pop = curr_pop - 0.1*curr_pop"
   ]
  }
 ],
 "metadata": {
  "kernelspec": {
   "display_name": "Python 3",
   "language": "python",
   "name": "python3"
  },
  "language_info": {
   "codemirror_mode": {
    "name": "ipython",
    "version": 3
   },
   "file_extension": ".py",
   "mimetype": "text/x-python",
   "name": "python",
   "nbconvert_exporter": "python",
   "pygments_lexer": "ipython3",
   "version": "3.14.0"
  }
 },
 "nbformat": 4,
 "nbformat_minor": 5
}
