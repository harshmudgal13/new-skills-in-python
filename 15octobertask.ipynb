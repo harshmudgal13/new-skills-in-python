{
 "cells": [
  {
   "cell_type": "code",
   "execution_count": 11,
   "id": "586bba2e",
   "metadata": {},
   "outputs": [
    {
     "name": "stdout",
     "output_type": "stream",
     "text": [
      "your CTC is: 45000.0\n",
      "your in hand salary is: 205000.0\n",
      "your in hand monthly salary is: 17083.333333333332\n"
     ]
    }
   ],
   "source": [
    "#in hand salary after deductions\n",
    "salary = float(input(\"enter your salary: \"))\n",
    "\n",
    "HRA_PERCENT = 0.10  # HRA allowance\n",
    "DA_PERCENT = 0.05   # DA allowance\n",
    "PF_PERCENT = 0.03   # PF contribution (Exemption AND Deduction)\n",
    "\n",
    "ctc = (HRA_PERCENT * salary) + (DA_PERCENT * salary) + (PF_PERCENT * salary)\n",
    "print(f\"your CTC is: {ctc}\")\n",
    "\n",
    "if salary <= 500000: \n",
    "    tax = 0\n",
    "elif 500000 < salary <= 1000000:\n",
    "    tax = 0.1 * (salary - 500000)\n",
    "elif 1000000 < salary <= 2000000:\n",
    "    tax = 0.1 * 500000 + 0.2 * (salary - 1000000)\n",
    "else: \n",
    "    tax = 0.1 * 500000 + 0.2 * 1000000 + 0.3 * (salary - 2000000)\n",
    "\n",
    "    deductions = float(input(f\"enter your deductions: {ctc}\"))\n",
    "deductions = ctc\n",
    "in_hand_salary = salary - tax - deductions\n",
    "print(f\"your in hand salary is: {in_hand_salary}\")\n",
    "print(f\"your in hand monthly salary is: {in_hand_salary / 12}\")"
   ]
  },
  {
   "cell_type": "code",
   "execution_count": 14,
   "id": "f194e198",
   "metadata": {},
   "outputs": [
    {
     "name": "stdout",
     "output_type": "stream",
     "text": [
      "it is not a triangle\n"
     ]
    }
   ],
   "source": [
    "#is it a triangle ? found uaing the angles given by user\n",
    "#user input for angles\n",
    "\n",
    "angle1 = float(input(\"enter angle 1: \"))\n",
    "angle2 = float(input(\"enter angle 2: \"))\n",
    "angle3 = float(input(\"enter angle 3: \"))\n",
    "\n",
    "if angle1 + angle2 + angle3 == 180:\n",
    "    print(\"it is a triangle\")\n",
    "else:\n",
    "    print(\"it is not a triangle\")"
   ]
  },
  {
   "cell_type": "code",
   "execution_count": 15,
   "id": "7d6e3b45",
   "metadata": {},
   "outputs": [
    {
     "name": "stdout",
     "output_type": "stream",
     "text": [
      "you made a loss of: 2000.0\n"
     ]
    }
   ],
   "source": [
    "#program that will take user input of cost price and selling price and determines whether its a loss or a profit.\n",
    "\n",
    "cost_price = float(input(\"enter the cost price: \"))\n",
    "selling_price = float(input(\"enter the selling price: \"))\n",
    "\n",
    "profit = selling_price - cost_price\n",
    "\n",
    "if selling_price > cost_price:\n",
    "    print(f\"you made a profit of: {profit}\")\n",
    "\n",
    "elif selling_price < cost_price:\n",
    "    print(f\"you made a loss of: {-profit}\")\n",
    "\n",
    "else:\n",
    "    print(\"no profit no loss\")"
   ]
  },
  {
   "cell_type": "code",
   "execution_count": 3,
   "id": "0df79733",
   "metadata": {},
   "outputs": [
    {
     "name": "stdout",
     "output_type": "stream",
     "text": [
      "Thank you for using our services\n"
     ]
    }
   ],
   "source": [
    "#menu driven program to perform basic arithmetic operations\n",
    "\n",
    "menu = input(\"\"\"select operation:\n",
    "\n",
    "1. cm to ft \n",
    "2. km to miles\n",
    "3. USD to INR\n",
    "4. exit\n",
    "\"\"\")\n",
    "\n",
    "cm = 0.0328084\n",
    "km = 0.621371\n",
    "inr = 82.74\n",
    "\n",
    "if menu == '1':\n",
    "    print(\"enter the value to convert it into cm to ft: \")\n",
    "    value = float(input())\n",
    "    print(f\"the value in ft is: {value * cm}\")\n",
    "\n",
    "elif menu == '2':\n",
    "    print(\"enter the value to convert it into km to miles: \")\n",
    "    value = float(input())\n",
    "    print(f\"the value in miles is: {value * km}\")\n",
    "\n",
    "elif menu == '3':\n",
    "    print(\"enter the value to convert it into USD to INR: \")\n",
    "    value = float(input())\n",
    "    print(f\"the value in INR is: {value * inr}\")\n",
    "\n",
    "elif menu == '4':\n",
    "    print(\"Thank you for using our services\")\n",
    "\n",
    "else:\n",
    "    print(\"Invalid choice, please try again\")"
   ]
  },
  {
   "cell_type": "code",
   "execution_count": null,
   "id": "3ed77127",
   "metadata": {},
   "outputs": [
    {
     "name": "stdout",
     "output_type": "stream",
     "text": [
      "fibonacci series is: \n",
      "89\n",
      "1\n",
      "2\n",
      "3\n",
      "5\n",
      "8\n",
      "13\n",
      "21\n",
      "34\n",
      "55\n"
     ]
    }
   ],
   "source": [
    "#Display Fibonacci series up to 10 terms.\n",
    "numbers = int(input(\"enter how many numbers you want in fibonacci series: \"))\n",
    "n1, n2 = 0, 1\n",
    "count = 0   \n",
    "\n",
    "if numbers <= 0:\n",
    "    print(\"please enter a positive integer\")\n",
    "elif numbers == 1:\n",
    "    print(f\"fibonacci series upto {numbers} is: \")\n",
    "    print(n1)\n",
    "else:\n",
    "    print(\"fibonacci series is: \")\n",
    "    while count < numbers:\n",
    "        print(n1)\n",
    "        nth = n1 + n2\n",
    "        n1 = n2\n",
    "        n2 = nth\n",
    "        count += 1\n"
   ]
  },
  {
   "cell_type": "code",
   "execution_count": 6,
   "id": "a9c17161",
   "metadata": {},
   "outputs": [
    {
     "name": "stdout",
     "output_type": "stream",
     "text": [
      "the factorial of 5 is 120\n"
     ]
    }
   ],
   "source": [
    "#factorial of a number \n",
    "num = int(input(\"enter a number to find its factorial: \"))\n",
    "factorial = 1\n",
    "if num < 0:\n",
    "    print(\"factorial does not exist for negative numbers\")\n",
    "elif num == 0:\n",
    "    print(\"the factorial of 0 is 1\")\n",
    "else:\n",
    "    for i in range(1, num + 1):\n",
    "        factorial = factorial * i\n",
    "    print(f\"the factorial of {num} is {factorial}\")\n"
   ]
  },
  {
   "cell_type": "code",
   "execution_count": 15,
   "id": "8d92067e",
   "metadata": {},
   "outputs": [
    {
     "name": "stdout",
     "output_type": "stream",
     "text": [
      "the reversed number is: 76\n"
     ]
    }
   ],
   "source": [
    "#reverse a number\n",
    "num = int(input(\"enter a number to reverse it: \"))\n",
    "reverse = 0\n",
    "while num > 0:\n",
    "    digit = num % 10\n",
    "    reverse = (reverse * 10) + digit\n",
    "    num //= 10\n",
    "print(f\"the reversed number is: {reverse}\")"
   ]
  },
  {
   "cell_type": "code",
   "execution_count": 33,
   "id": "0d98ff4a",
   "metadata": {},
   "outputs": [
    {
     "name": "stdout",
     "output_type": "stream",
     "text": [
      "the sum of the number and its predecessor is greater than 300\n"
     ]
    }
   ],
   "source": [
    "num = int(input(\"enter a number: \"))\n",
    "\n",
    "sum = num + (num - 1)\n",
    "\n",
    "if num % 5 == 0:\n",
    "    print(\"the number is divisible by 5\")\n",
    "\n",
    "elif sum < 300:\n",
    "  \n",
    "    print(f\"the sum of the number and its predecessor is: {sum}\")\n",
    "\n",
    "else:\n",
    "    print(\"the sum of the number and its predecessor is greater than 300\")\n"
   ]
  },
  {
   "cell_type": "code",
   "execution_count": null,
   "id": "f6dabcc0",
   "metadata": {},
   "outputs": [],
   "source": [
    "#Take a user input as integer N. Find out the sum from 1 to N. If any number if divisible by 5, then skip that number. And if the sum is greater than 300, don't need to calculate the \n",
    "# sum further more. Print the final result. And don't use for loop to solve this problem\n",
    "\n",
    "n = int(input(\"enter a number: \"))\n",
    "i = 1\n",
    "total_sum = 0\n",
    "\n",
    "while i <= n:\n",
    "    if i % 5 == 0:\n",
    "        i += 1\n",
    "        continue\n",
    "    total_sum += i\n",
    "    if total_sum > 300:\n",
    "        break\n",
    "    i += 1"
   ]
  },
  {
   "cell_type": "code",
   "execution_count": 12,
   "id": "8dba7157",
   "metadata": {},
   "outputs": [
    {
     "name": "stdout",
     "output_type": "stream",
     "text": [
      "you entered: 10\n",
      "the average of the numbers is: 5.0\n",
      "you entered: 10\n",
      "the average of the numbers is: 5.0\n",
      "you entered: 234\n",
      "the average of the numbers is: 117.0\n"
     ]
    }
   ],
   "source": [
    "# keep accepting user input until they choose to input 0\n",
    "\n",
    "n=1\n",
    "while n != 0:\n",
    "    n = int(input(\"enter a number (0 to exit): \"))\n",
    "    if n != 0:\n",
    "        n = n + int(input(\"enter another number to add: \"))\n",
    "\n",
    "        print(f\"you entered: {n}\")\n",
    "        print(f\"the average of the numbers is: {n / 2}\")\n"
   ]
  }
 ],
 "metadata": {
  "kernelspec": {
   "display_name": "Python 3",
   "language": "python",
   "name": "python3"
  },
  "language_info": {
   "codemirror_mode": {
    "name": "ipython",
    "version": 3
   },
   "file_extension": ".py",
   "mimetype": "text/x-python",
   "name": "python",
   "nbconvert_exporter": "python",
   "pygments_lexer": "ipython3",
   "version": "3.14.0"
  }
 },
 "nbformat": 4,
 "nbformat_minor": 5
}
